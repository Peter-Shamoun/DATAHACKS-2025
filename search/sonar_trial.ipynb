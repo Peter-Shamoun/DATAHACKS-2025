{
 "cells": [
  {
   "cell_type": "markdown",
   "metadata": {},
   "source": [
    "## Imports"
   ]
  },
  {
   "cell_type": "code",
   "execution_count": 18,
   "metadata": {},
   "outputs": [],
   "source": [
    "from openai import OpenAI\n",
    "\n",
    "\n",
    "import pandas as pd\n",
    "import numpy as np\n",
    "import matplotlib.pyplot as plt\n",
    "import requests\n",
    "\n",
    "from dotenv import load_dotenv\n",
    "parent_dir = os.path.dirname(os.getcwd())\n",
    "load_dotenv(os.path.join(parent_dir, '.env'))\n",
    "\n",
    "import os\n",
    "\n",
    "PPLX_API_KEY = os.getenv(\"PPLX_API_KEY\")\n",
    "client = OpenAI(api_key=PPLX_API_KEY, base_url=\"https://api.perplexity.ai\")\n"
   ]
  },
  {
   "cell_type": "markdown",
   "metadata": {},
   "source": [
    "## Example"
   ]
  },
  {
   "cell_type": "code",
   "execution_count": 22,
   "metadata": {},
   "outputs": [],
   "source": [
    "messages = [\n",
    "    {\n",
    "        \"role\": \"system\",\n",
    "        \"content\": (\n",
    "            \"You are an artificial intelligence assistant and you need to \"\n",
    "            \"engage in a helpful, detailed, polite conversation with a user.\"\n",
    "        ),\n",
    "    },\n",
    "    {   \n",
    "        \"role\": \"user\",\n",
    "        \"content\": (\n",
    "            \"How many stars are in the universe?\"\n",
    "        ),\n",
    "    },\n",
    "]\n",
    "\n",
    "response = client.chat.completions.create(\n",
    "    model=\"sonar\",\n",
    "    messages=messages,\n",
    "    max_tokens=200,\n",
    ")\n"
   ]
  },
  {
   "cell_type": "code",
   "execution_count": 23,
   "metadata": {},
   "outputs": [
    {
     "name": "stdout",
     "output_type": "stream",
     "text": [
      "Estimating the number of stars in the universe is quite a complex task, but astronomers have made various attempts to provide an answer. Different methods and observations have led to different estimates, but here's a summary of what is currently understood:\n",
      "\n",
      "1. **Estimation Methods**: Astronomers estimate the number of stars by first counting the number of galaxies in the observable universe and then estimating the average number of stars in a typical galaxy. The observable universe is the part of the universe from which light has had time to reach us, approximately 46.5 billion light-years in diameter.\n",
      "\n",
      "2. **Number of Galaxies**: Recent estimates suggest there are between 6 and 20 trillion galaxies in the observable universe, with some studies indicating there could be as many as 2 trillion[3][5].\n",
      "\n",
      "3. **Number of Stars per Galaxy**: The Milky Way, our home galaxy, is thought to contain about 400 billion stars[5]. However, most galaxies are much smaller and have fewer stars. An average galaxy might contain around 100 billion stars[1][4].\n",
      "\n",
      "4. **Total Number of Stars**: Estimates of the total number of stars vary widely. Some put the number at around 70 billion trillion (7 x 10^22) stars based on observable galaxies[3]. Another estimate suggests about 200 billion trillion (200 sextillion) stars across the entire universe, though this may overestimate[1][4].\n",
      "\n",
      "5. **Adjusting for Star Lifecycles**: Some calculations also consider the lifecycle of stars, factoring in that some stars have already died. This would reduce the total number slightly, to about 2.14 sextillion stars if we account for these deaths[5].\n",
      "\n",
      "In summary, while the exact number is difficult to pinpoint and varies depending on the method used, the universe is believed to contain tens of sextillions of stars. However, estimates can range from about 70 billion trillion to 200 billion trillion stars depending on the specific assumptions and methodologies employed.\n"
     ]
    }
   ],
   "source": [
    "print(response.choices[0].message.content)"
   ]
  },
  {
   "cell_type": "code",
   "execution_count": null,
   "metadata": {},
   "outputs": [],
   "source": []
  }
 ],
 "metadata": {
  "kernelspec": {
   "display_name": "Python 3",
   "language": "python",
   "name": "python3"
  },
  "language_info": {
   "codemirror_mode": {
    "name": "ipython",
    "version": 3
   },
   "file_extension": ".py",
   "mimetype": "text/x-python",
   "name": "python",
   "nbconvert_exporter": "python",
   "pygments_lexer": "ipython3",
   "version": "3.12.6"
  }
 },
 "nbformat": 4,
 "nbformat_minor": 2
}
