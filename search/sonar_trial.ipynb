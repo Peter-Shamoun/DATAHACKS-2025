{
 "cells": [
  {
   "cell_type": "markdown",
   "metadata": {},
   "source": [
    "## Imports"
   ]
  },
  {
   "cell_type": "code",
   "execution_count": 5,
   "metadata": {},
   "outputs": [],
   "source": [
    "from openai import OpenAI\n",
    "\n",
    "\n",
    "import pandas as pd\n",
    "import numpy as np\n",
    "import matplotlib.pyplot as plt\n",
    "import requests\n",
    "\n",
    "\n",
    "import os \n",
    "from dotenv import load_dotenv\n",
    "parent_dir = os.path.dirname(os.getcwd())\n",
    "load_dotenv(os.path.join(parent_dir, '.env'))\n",
    "\n",
    "\n",
    "PPLX_API_KEY = os.getenv(\"PPLX_API_KEY\")\n",
    "OPENAI_API_KEY = os.getenv(\"OPENAI_API_KEY\")\n",
    "client = OpenAI(api_key=OPENAI_API_KEY)\n",
    "\n",
    "from pydantic import BaseModel, Field\n",
    "import json\n",
    "\n"
   ]
  },
  {
   "cell_type": "code",
   "execution_count": null,
   "metadata": {},
   "outputs": [],
   "source": [
    "response = client.responses.create(\n",
    "    model=\"gpt-4o-mini\",\n",
    "    tools=[{ \"type\": \"web_search_preview\" }],\n",
    "    input=\"What was a positive news story from today?\",\n",
    ")\n",
    "\n",
    "print(response)\n"
   ]
  },
  {
   "cell_type": "code",
   "execution_count": null,
   "metadata": {},
   "outputs": [],
   "source": [
    "print(response.output_text)\n",
    "print(response.output[1].content[0].annotations)"
   ]
  },
  {
   "cell_type": "markdown",
   "metadata": {},
   "source": [
    "## Example"
   ]
  },
  {
   "cell_type": "code",
   "execution_count": null,
   "metadata": {},
   "outputs": [],
   "source": [
    "messages = [\n",
    "    {\n",
    "        \"role\": \"system\",\n",
    "        \"content\": (\n",
    "            \"You are an artificial intelligence assistant and you need to \"\n",
    "            \"engage in a helpful, detailed, polite conversation with a user.\"\n",
    "        ),\n",
    "    },\n",
    "    {   \n",
    "        \"role\": \"user\",\n",
    "        \"content\": (\n",
    "            \"How many stars are in the universe?\"\n",
    "        ),\n",
    "    },\n",
    "]\n",
    "\n",
    "response = client.responses.create(\n",
    "    model=\"gpt-4o-mini\",\n",
    "    tools=[{ \"type\": \"web_search_preview\" }],\n",
    "    input=messages,\n",
    ")\n",
    "print(response.output_text)\n",
    "print(response.output[1].content[0].annotations)\n"
   ]
  },
  {
   "cell_type": "markdown",
   "metadata": {},
   "source": [
    "## Structured output example"
   ]
  },
  {
   "cell_type": "code",
   "execution_count": 43,
   "metadata": {},
   "outputs": [
    {
     "ename": "ValueError",
     "evalue": "Currently only `function` tool types support auto-parsing; Received `web_search_preview`",
     "output_type": "error",
     "traceback": [
      "\u001b[0;31m---------------------------------------------------------------------------\u001b[0m",
      "\u001b[0;31mValueError\u001b[0m                                Traceback (most recent call last)",
      "\u001b[1;32m/Users/peter_parker/Desktop/DATAHACKS-2025/search/sonar_trial.ipynb Cell 8\u001b[0m line \u001b[0;36m5\n\u001b[1;32m     <a href='vscode-notebook-cell:/Users/peter_parker/Desktop/DATAHACKS-2025/search/sonar_trial.ipynb#X11sZmlsZQ%3D%3D?line=19'>20</a>\u001b[0m user_prompt \u001b[39m=\u001b[39m \u001b[39mf\u001b[39m\u001b[39m\"\"\"\u001b[39m\n\u001b[1;32m     <a href='vscode-notebook-cell:/Users/peter_parker/Desktop/DATAHACKS-2025/search/sonar_trial.ipynb#X11sZmlsZQ%3D%3D?line=20'>21</a>\u001b[0m \u001b[39mGenerate a timeline for the public figure: **\u001b[39m\u001b[39m{\u001b[39;00mcelebrity_name\u001b[39m}\u001b[39;00m\u001b[39m**.\u001b[39m\n\u001b[1;32m     <a href='vscode-notebook-cell:/Users/peter_parker/Desktop/DATAHACKS-2025/search/sonar_trial.ipynb#X11sZmlsZQ%3D%3D?line=21'>22</a>\u001b[0m \n\u001b[0;32m   (...)\u001b[0m\n\u001b[1;32m     <a href='vscode-notebook-cell:/Users/peter_parker/Desktop/DATAHACKS-2025/search/sonar_trial.ipynb#X11sZmlsZQ%3D%3D?line=36'>37</a>\u001b[0m \u001b[39mProvide the timeline strictly adhering to the JSON schema format specified in the system instructions.\u001b[39m\n\u001b[1;32m     <a href='vscode-notebook-cell:/Users/peter_parker/Desktop/DATAHACKS-2025/search/sonar_trial.ipynb#X11sZmlsZQ%3D%3D?line=37'>38</a>\u001b[0m \u001b[39m\"\"\"\u001b[39m\n\u001b[1;32m     <a href='vscode-notebook-cell:/Users/peter_parker/Desktop/DATAHACKS-2025/search/sonar_trial.ipynb#X11sZmlsZQ%3D%3D?line=40'>41</a>\u001b[0m messages \u001b[39m=\u001b[39m [\n\u001b[1;32m     <a href='vscode-notebook-cell:/Users/peter_parker/Desktop/DATAHACKS-2025/search/sonar_trial.ipynb#X11sZmlsZQ%3D%3D?line=41'>42</a>\u001b[0m     {\n\u001b[1;32m     <a href='vscode-notebook-cell:/Users/peter_parker/Desktop/DATAHACKS-2025/search/sonar_trial.ipynb#X11sZmlsZQ%3D%3D?line=42'>43</a>\u001b[0m         \u001b[39m\"\u001b[39m\u001b[39mrole\u001b[39m\u001b[39m\"\u001b[39m: \u001b[39m\"\u001b[39m\u001b[39msystem\u001b[39m\u001b[39m\"\u001b[39m,\n\u001b[0;32m   (...)\u001b[0m\n\u001b[1;32m     <a href='vscode-notebook-cell:/Users/peter_parker/Desktop/DATAHACKS-2025/search/sonar_trial.ipynb#X11sZmlsZQ%3D%3D?line=53'>54</a>\u001b[0m     },\n\u001b[1;32m     <a href='vscode-notebook-cell:/Users/peter_parker/Desktop/DATAHACKS-2025/search/sonar_trial.ipynb#X11sZmlsZQ%3D%3D?line=54'>55</a>\u001b[0m ]\n\u001b[0;32m---> <a href='vscode-notebook-cell:/Users/peter_parker/Desktop/DATAHACKS-2025/search/sonar_trial.ipynb#X11sZmlsZQ%3D%3D?line=56'>57</a>\u001b[0m response \u001b[39m=\u001b[39m client\u001b[39m.\u001b[39;49mbeta\u001b[39m.\u001b[39;49mchat\u001b[39m.\u001b[39;49mcompletions\u001b[39m.\u001b[39;49mparse(\n\u001b[1;32m     <a href='vscode-notebook-cell:/Users/peter_parker/Desktop/DATAHACKS-2025/search/sonar_trial.ipynb#X11sZmlsZQ%3D%3D?line=57'>58</a>\u001b[0m     model\u001b[39m=\u001b[39;49m\u001b[39m\"\u001b[39;49m\u001b[39mgpt-4o-mini\u001b[39;49m\u001b[39m\"\u001b[39;49m,\n\u001b[1;32m     <a href='vscode-notebook-cell:/Users/peter_parker/Desktop/DATAHACKS-2025/search/sonar_trial.ipynb#X11sZmlsZQ%3D%3D?line=58'>59</a>\u001b[0m     tools\u001b[39m=\u001b[39;49m[{ \u001b[39m\"\u001b[39;49m\u001b[39mtype\u001b[39;49m\u001b[39m\"\u001b[39;49m: \u001b[39m\"\u001b[39;49m\u001b[39mweb_search_preview\u001b[39;49m\u001b[39m\"\u001b[39;49m }],\n\u001b[1;32m     <a href='vscode-notebook-cell:/Users/peter_parker/Desktop/DATAHACKS-2025/search/sonar_trial.ipynb#X11sZmlsZQ%3D%3D?line=59'>60</a>\u001b[0m     messages\u001b[39m=\u001b[39;49mmessages,\n\u001b[1;32m     <a href='vscode-notebook-cell:/Users/peter_parker/Desktop/DATAHACKS-2025/search/sonar_trial.ipynb#X11sZmlsZQ%3D%3D?line=60'>61</a>\u001b[0m     response_format\u001b[39m=\u001b[39;49mTimeline\n\u001b[1;32m     <a href='vscode-notebook-cell:/Users/peter_parker/Desktop/DATAHACKS-2025/search/sonar_trial.ipynb#X11sZmlsZQ%3D%3D?line=61'>62</a>\u001b[0m )\n\u001b[1;32m     <a href='vscode-notebook-cell:/Users/peter_parker/Desktop/DATAHACKS-2025/search/sonar_trial.ipynb#X11sZmlsZQ%3D%3D?line=63'>64</a>\u001b[0m \u001b[39mprint\u001b[39m(response\u001b[39m.\u001b[39moutput_text)\n\u001b[1;32m     <a href='vscode-notebook-cell:/Users/peter_parker/Desktop/DATAHACKS-2025/search/sonar_trial.ipynb#X11sZmlsZQ%3D%3D?line=64'>65</a>\u001b[0m \u001b[39mprint\u001b[39m(response\u001b[39m.\u001b[39moutput[\u001b[39m1\u001b[39m]\u001b[39m.\u001b[39mcontent[\u001b[39m0\u001b[39m]\u001b[39m.\u001b[39mannotations)\n",
      "File \u001b[0;32m~/anaconda3/envs/dsc80/lib/python3.12/site-packages/openai/resources/beta/chat/completions.py:144\u001b[0m, in \u001b[0;36mCompletions.parse\u001b[0;34m(self, messages, model, audio, response_format, frequency_penalty, function_call, functions, logit_bias, logprobs, max_completion_tokens, max_tokens, metadata, modalities, n, parallel_tool_calls, prediction, presence_penalty, reasoning_effort, seed, service_tier, stop, store, stream_options, temperature, tool_choice, tools, top_logprobs, top_p, user, web_search_options, extra_headers, extra_query, extra_body, timeout)\u001b[0m\n\u001b[1;32m     62\u001b[0m \u001b[39mdef\u001b[39;00m \u001b[39mparse\u001b[39m(\n\u001b[1;32m     63\u001b[0m     \u001b[39mself\u001b[39m,\n\u001b[1;32m     64\u001b[0m     \u001b[39m*\u001b[39m,\n\u001b[0;32m   (...)\u001b[0m\n\u001b[1;32m    100\u001b[0m     timeout: \u001b[39mfloat\u001b[39m \u001b[39m|\u001b[39m httpx\u001b[39m.\u001b[39mTimeout \u001b[39m|\u001b[39m \u001b[39mNone\u001b[39;00m \u001b[39m|\u001b[39m NotGiven \u001b[39m=\u001b[39m NOT_GIVEN,\n\u001b[1;32m    101\u001b[0m ) \u001b[39m-\u001b[39m\u001b[39m>\u001b[39m ParsedChatCompletion[ResponseFormatT]:\n\u001b[1;32m    102\u001b[0m \u001b[39m    \u001b[39m\u001b[39m\"\"\"Wrapper over the `client.chat.completions.create()` method that provides richer integrations with Python specific types\u001b[39;00m\n\u001b[1;32m    103\u001b[0m \u001b[39m    & returns a `ParsedChatCompletion` object, which is a subclass of the standard `ChatCompletion` class.\u001b[39;00m\n\u001b[1;32m    104\u001b[0m \n\u001b[0;32m   (...)\u001b[0m\n\u001b[1;32m    142\u001b[0m \u001b[39m    ```\u001b[39;00m\n\u001b[1;32m    143\u001b[0m \u001b[39m    \"\"\"\u001b[39;00m\n\u001b[0;32m--> 144\u001b[0m     _validate_input_tools(tools)\n\u001b[1;32m    146\u001b[0m     extra_headers \u001b[39m=\u001b[39m {\n\u001b[1;32m    147\u001b[0m         \u001b[39m\"\u001b[39m\u001b[39mX-Stainless-Helper-Method\u001b[39m\u001b[39m\"\u001b[39m: \u001b[39m\"\u001b[39m\u001b[39mbeta.chat.completions.parse\u001b[39m\u001b[39m\"\u001b[39m,\n\u001b[1;32m    148\u001b[0m         \u001b[39m*\u001b[39m\u001b[39m*\u001b[39m(extra_headers \u001b[39mor\u001b[39;00m {}),\n\u001b[1;32m    149\u001b[0m     }\n\u001b[1;32m    151\u001b[0m     \u001b[39mdef\u001b[39;00m \u001b[39mparser\u001b[39m(raw_completion: ChatCompletion) \u001b[39m-\u001b[39m\u001b[39m>\u001b[39m ParsedChatCompletion[ResponseFormatT]:\n",
      "File \u001b[0;32m~/anaconda3/envs/dsc80/lib/python3.12/site-packages/openai/lib/_parsing/_completions.py:47\u001b[0m, in \u001b[0;36mvalidate_input_tools\u001b[0;34m(tools)\u001b[0m\n\u001b[1;32m     45\u001b[0m \u001b[39mfor\u001b[39;00m tool \u001b[39min\u001b[39;00m tools:\n\u001b[1;32m     46\u001b[0m     \u001b[39mif\u001b[39;00m tool[\u001b[39m\"\u001b[39m\u001b[39mtype\u001b[39m\u001b[39m\"\u001b[39m] \u001b[39m!=\u001b[39m \u001b[39m\"\u001b[39m\u001b[39mfunction\u001b[39m\u001b[39m\"\u001b[39m:\n\u001b[0;32m---> 47\u001b[0m         \u001b[39mraise\u001b[39;00m \u001b[39mValueError\u001b[39;00m(\n\u001b[1;32m     48\u001b[0m             \u001b[39mf\u001b[39m\u001b[39m\"\u001b[39m\u001b[39mCurrently only `function` tool types support auto-parsing; Received `\u001b[39m\u001b[39m{\u001b[39;00mtool[\u001b[39m'\u001b[39m\u001b[39mtype\u001b[39m\u001b[39m'\u001b[39m]\u001b[39m}\u001b[39;00m\u001b[39m`\u001b[39m\u001b[39m\"\u001b[39m,\n\u001b[1;32m     49\u001b[0m         )\n\u001b[1;32m     51\u001b[0m     strict \u001b[39m=\u001b[39m tool[\u001b[39m\"\u001b[39m\u001b[39mfunction\u001b[39m\u001b[39m\"\u001b[39m]\u001b[39m.\u001b[39mget(\u001b[39m\"\u001b[39m\u001b[39mstrict\u001b[39m\u001b[39m\"\u001b[39m)\n\u001b[1;32m     52\u001b[0m     \u001b[39mif\u001b[39;00m strict \u001b[39mis\u001b[39;00m \u001b[39mnot\u001b[39;00m \u001b[39mTrue\u001b[39;00m:\n",
      "\u001b[0;31mValueError\u001b[0m: Currently only `function` tool types support auto-parsing; Received `web_search_preview`"
     ]
    }
   ],
   "source": [
    "class Timeline(BaseModel):\n",
    "    year: list[str] = Field(..., description=\"List of years (YYYY format) corresponding to each event.\")\n",
    "    event_description: list[str] = Field(..., description=\"List of concise descriptions for each corresponding event.\")\n",
    "\n",
    "\n",
    "system_prompt = \"\"\"\n",
    "You are an expert analyst specializing in the public perception and ethical conduct of public figures. Your role is to process information and present it according to strict guidelines.\n",
    "\n",
    "**Rules for Response Generation:**\n",
    "1.  **Format Adherence:** Your final output MUST be a JSON object that strictly conforms to the provided `Timeline` JSON schema. Do not include any text before or after the JSON object.\n",
    "2.  **Chronological Order:** Ensure all events listed in the timeline are presented in strict chronological order, from the earliest year to the most recent.\n",
    "3.  **Year Formatting:** All entries in the `year` list MUST be strings in 'YYYY' format.\n",
    "4.  **List Correspondence:** The `year` list and the `event_description` list MUST have the exact same number of elements, with each year directly corresponding to the event description at the same index.\n",
    "5.  **Handling Multiple Events per Year:** If multiple distinct, significant events occurred in the same year, create separate entries for each. Repeat the year in the `year` list for each corresponding event description. Order these same-year events chronologically if possible.\n",
    "6.  **Tone and Neutrality:** Descriptions in `event_description` must be factual summaries. When mentioning public reaction, report *on* the reaction neutrally (e.g., \"led to public criticism,\" \"was praised by advocacy groups\") without adding your own judgment or opinion. Maintain a neutral, analytical tone throughout.\"\"\"\n",
    "\n",
    "\n",
    "celebrity_name = \"Elon Musk\"\n",
    "\n",
    "user_prompt = f\"\"\"\n",
    "Generate a timeline for the public figure: **{celebrity_name}**.\n",
    "\n",
    "**Focus:** The timeline MUST concentrate on events crucial for assessing the individual's ethical conduct and public perception. Gather key data points reflecting their ethical track record and public image.\n",
    "\n",
    "**Content Requirements (Prioritize these):**\n",
    "1.  **Ethically Significant Events:** Include:\n",
    "    *   Major public controversies, scandals, accusations of unethical behavior, policy violations, or legal issues with clear ethical dimensions (e.g., fraud, discrimination, harassment, misleading conduct).\n",
    "    *   Notable positive contributions, acts of philanthropy, demonstrated ethical leadership, activism, or significant charitable work that garnered public attention.\n",
    "    *   Significant public stances or statements on sensitive social, political, or ethical issues that notably shaped public opinion.\n",
    "    *   Business practices or professional conduct highlighted publicly as particularly ethical or unethical.\n",
    "2.  **Public Reaction:** For each event description, **briefly summarize the notable public reaction or shift in perception** (e.g., \"...sparking widespread outrage,\" \"...earning accolades from X group,\" \"...leading to debate,\" \"...resulting in calls for accountability,\" \"...generally well-received\").\n",
    "3.  **Source Reliability:** Base the timeline *only* on events widely reported in reliable, publicly accessible sources. Avoid unverified rumors or obscure information.\n",
    "4.  **Relevance Filter:** De-emphasize routine career milestones (like album releases, movie roles) *unless* they directly involved a major ethical controversy, ethical stand, or significantly altered public perception in an ethical context.\n",
    "5.  **Scope:** Focus on the *most impactful* events related to ethics and reputation, prioritizing those that generated significant public discussion or media coverage. Aim for a comprehensive overview of these key moments.\n",
    "6.  **Event Description:** Ensure each `event_description` factually summarizes the core event, its ethical dimension/significance, and the associated public reaction (as noted in point 2), keeping descriptions concise (approx. 1-3 sentences).\n",
    "\n",
    "Provide the timeline strictly adhering to the JSON schema format specified in the system instructions.\n",
    "\"\"\"\n",
    "\n",
    "\n",
    "messages = [\n",
    "    {\n",
    "        \"role\": \"system\",\n",
    "        \"content\": (\n",
    "           f\"\"\" {system_prompt}\n",
    "\"\"\"\n",
    "        ),\n",
    "    },\n",
    "    {   \n",
    "        \"role\": \"user\",\n",
    "        \"content\": (\n",
    "            f\"{user_prompt}\"\n",
    "        ),\n",
    "    },\n",
    "]\n",
    "\n",
    "text={\n",
    "        \"format\": {\n",
    "            \"type\": \"json_schema\",\n",
    "            \"name\": \"Timeline\",\n",
    "            \"schema\": {\n",
    "                \"type\": \"object\",\n",
    "                \"properties\": {\n",
    "                    \"Year\": {\n",
    "                        \"type\": \"list\"\n",
    "                    },\n",
    "                    \"date\": {\n",
    "                        \"type\": \"string\"\n",
    "                    },\n",
    "                    \"participants\": {\n",
    "                        \"type\": \"array\", \n",
    "                        \"items\": {\n",
    "                            \"type\": \"string\"\n",
    "                        }\n",
    "                    },\n",
    "                },\n",
    "                \"required\": [\"name\", \"date\", \"participants\"],\n",
    "                \"additionalProperties\": False\n",
    "            },\n",
    "            \"strict\": True\n",
    "        }\n",
    "    }\n",
    "\n",
    "\n",
    "response = client.responses.create(\n",
    "    model=\"gpt-4o-mini\",\n",
    "    tools=[{ \"type\": \"web_search_preview\" }],\n",
    "    input=messages,\n",
    "    response_format={ \"type\": \"json_schema\", \"json_schema\": {Timeline} }\n",
    ")\n",
    "\n",
    "print(response.output_text)\n",
    "print(response.output[1].content[0].annotations)\n"
   ]
  },
  {
   "cell_type": "code",
   "execution_count": 99,
   "metadata": {},
   "outputs": [
    {
     "ename": "ValidationError",
     "evalue": "1 validation error for Timeline\n__root__\n  Unterminated string starting at: line 1 column 401 (char 400) [type=value_error.jsondecode, input_value='{\"year\":[\"2018\",\">2018\",...018\",\">2018\",\">2018\",\">', input_type=str]",
     "output_type": "error",
     "traceback": [
      "\u001b[0;31m---------------------------------------------------------------------------\u001b[0m",
      "\u001b[0;31mJSONDecodeError\u001b[0m                           Traceback (most recent call last)",
      "File \u001b[0;32m~/anaconda3/envs/dsc80/lib/python3.12/site-packages/pydantic/main.py:1187\u001b[0m, in \u001b[0;36mBaseModel.parse_raw\u001b[0;34m(cls, b, content_type, encoding, proto, allow_pickle)\u001b[0m\n\u001b[1;32m   1186\u001b[0m \u001b[39mtry\u001b[39;00m:\n\u001b[0;32m-> 1187\u001b[0m     obj \u001b[39m=\u001b[39m parse\u001b[39m.\u001b[39;49mload_str_bytes(\n\u001b[1;32m   1188\u001b[0m         b,\n\u001b[1;32m   1189\u001b[0m         proto\u001b[39m=\u001b[39;49mproto,\n\u001b[1;32m   1190\u001b[0m         content_type\u001b[39m=\u001b[39;49mcontent_type,\n\u001b[1;32m   1191\u001b[0m         encoding\u001b[39m=\u001b[39;49mencoding,\n\u001b[1;32m   1192\u001b[0m         allow_pickle\u001b[39m=\u001b[39;49mallow_pickle,\n\u001b[1;32m   1193\u001b[0m     )\n\u001b[1;32m   1194\u001b[0m \u001b[39mexcept\u001b[39;00m (\u001b[39mValueError\u001b[39;00m, \u001b[39mTypeError\u001b[39;00m) \u001b[39mas\u001b[39;00m exc:\n",
      "File \u001b[0;32m~/anaconda3/envs/dsc80/lib/python3.12/site-packages/pydantic/deprecated/parse.py:49\u001b[0m, in \u001b[0;36mload_str_bytes\u001b[0;34m(b, content_type, encoding, proto, allow_pickle, json_loads)\u001b[0m\n\u001b[1;32m     48\u001b[0m         b \u001b[39m=\u001b[39m b\u001b[39m.\u001b[39mdecode(encoding)\n\u001b[0;32m---> 49\u001b[0m     \u001b[39mreturn\u001b[39;00m json_loads(b)  \u001b[39m# type: ignore\u001b[39;00m\n\u001b[1;32m     50\u001b[0m \u001b[39melif\u001b[39;00m proto \u001b[39m==\u001b[39m Protocol\u001b[39m.\u001b[39mpickle:\n",
      "File \u001b[0;32m~/anaconda3/envs/dsc80/lib/python3.12/json/__init__.py:346\u001b[0m, in \u001b[0;36mloads\u001b[0;34m(s, cls, object_hook, parse_float, parse_int, parse_constant, object_pairs_hook, **kw)\u001b[0m\n\u001b[1;32m    343\u001b[0m \u001b[39mif\u001b[39;00m (\u001b[39mcls\u001b[39m \u001b[39mis\u001b[39;00m \u001b[39mNone\u001b[39;00m \u001b[39mand\u001b[39;00m object_hook \u001b[39mis\u001b[39;00m \u001b[39mNone\u001b[39;00m \u001b[39mand\u001b[39;00m\n\u001b[1;32m    344\u001b[0m         parse_int \u001b[39mis\u001b[39;00m \u001b[39mNone\u001b[39;00m \u001b[39mand\u001b[39;00m parse_float \u001b[39mis\u001b[39;00m \u001b[39mNone\u001b[39;00m \u001b[39mand\u001b[39;00m\n\u001b[1;32m    345\u001b[0m         parse_constant \u001b[39mis\u001b[39;00m \u001b[39mNone\u001b[39;00m \u001b[39mand\u001b[39;00m object_pairs_hook \u001b[39mis\u001b[39;00m \u001b[39mNone\u001b[39;00m \u001b[39mand\u001b[39;00m \u001b[39mnot\u001b[39;00m kw):\n\u001b[0;32m--> 346\u001b[0m     \u001b[39mreturn\u001b[39;00m _default_decoder\u001b[39m.\u001b[39;49mdecode(s)\n\u001b[1;32m    347\u001b[0m \u001b[39mif\u001b[39;00m \u001b[39mcls\u001b[39m \u001b[39mis\u001b[39;00m \u001b[39mNone\u001b[39;00m:\n",
      "File \u001b[0;32m~/anaconda3/envs/dsc80/lib/python3.12/json/decoder.py:337\u001b[0m, in \u001b[0;36mJSONDecoder.decode\u001b[0;34m(self, s, _w)\u001b[0m\n\u001b[1;32m    333\u001b[0m \u001b[39m\u001b[39m\u001b[39m\"\"\"Return the Python representation of ``s`` (a ``str`` instance\u001b[39;00m\n\u001b[1;32m    334\u001b[0m \u001b[39mcontaining a JSON document).\u001b[39;00m\n\u001b[1;32m    335\u001b[0m \n\u001b[1;32m    336\u001b[0m \u001b[39m\"\"\"\u001b[39;00m\n\u001b[0;32m--> 337\u001b[0m obj, end \u001b[39m=\u001b[39m \u001b[39mself\u001b[39;49m\u001b[39m.\u001b[39;49mraw_decode(s, idx\u001b[39m=\u001b[39;49m_w(s, \u001b[39m0\u001b[39;49m)\u001b[39m.\u001b[39;49mend())\n\u001b[1;32m    338\u001b[0m end \u001b[39m=\u001b[39m _w(s, end)\u001b[39m.\u001b[39mend()\n",
      "File \u001b[0;32m~/anaconda3/envs/dsc80/lib/python3.12/json/decoder.py:353\u001b[0m, in \u001b[0;36mJSONDecoder.raw_decode\u001b[0;34m(self, s, idx)\u001b[0m\n\u001b[1;32m    352\u001b[0m \u001b[39mtry\u001b[39;00m:\n\u001b[0;32m--> 353\u001b[0m     obj, end \u001b[39m=\u001b[39m \u001b[39mself\u001b[39;49m\u001b[39m.\u001b[39;49mscan_once(s, idx)\n\u001b[1;32m    354\u001b[0m \u001b[39mexcept\u001b[39;00m \u001b[39mStopIteration\u001b[39;00m \u001b[39mas\u001b[39;00m err:\n",
      "\u001b[0;31mJSONDecodeError\u001b[0m: Unterminated string starting at: line 1 column 401 (char 400)",
      "\nDuring handling of the above exception, another exception occurred:\n",
      "\u001b[0;31mValidationError\u001b[0m                           Traceback (most recent call last)",
      "\u001b[1;32m/Users/peter_parker/Desktop/DATAHACKS-2025/search/sonar_trial.ipynb Cell 10\u001b[0m line \u001b[0;36m5\n\u001b[1;32m      <a href='vscode-notebook-cell:/Users/peter_parker/Desktop/DATAHACKS-2025/search/sonar_trial.ipynb#X20sZmlsZQ%3D%3D?line=0'>1</a>\u001b[0m timeline_json_string \u001b[39m=\u001b[39m response\u001b[39m.\u001b[39mchoices[\u001b[39m0\u001b[39m]\u001b[39m.\u001b[39mmessage\u001b[39m.\u001b[39mcontent\n\u001b[1;32m      <a href='vscode-notebook-cell:/Users/peter_parker/Desktop/DATAHACKS-2025/search/sonar_trial.ipynb#X20sZmlsZQ%3D%3D?line=1'>2</a>\u001b[0m \u001b[39m# print(timeline_json_string) # Optional: print raw JSON string\u001b[39;00m\n\u001b[1;32m      <a href='vscode-notebook-cell:/Users/peter_parker/Desktop/DATAHACKS-2025/search/sonar_trial.ipynb#X20sZmlsZQ%3D%3D?line=2'>3</a>\u001b[0m \n\u001b[1;32m      <a href='vscode-notebook-cell:/Users/peter_parker/Desktop/DATAHACKS-2025/search/sonar_trial.ipynb#X20sZmlsZQ%3D%3D?line=3'>4</a>\u001b[0m \u001b[39m# Validate with Pydantic\u001b[39;00m\n\u001b[0;32m----> <a href='vscode-notebook-cell:/Users/peter_parker/Desktop/DATAHACKS-2025/search/sonar_trial.ipynb#X20sZmlsZQ%3D%3D?line=4'>5</a>\u001b[0m timeline_data \u001b[39m=\u001b[39m Timeline\u001b[39m.\u001b[39;49mparse_raw(timeline_json_string)\n\u001b[1;32m      <a href='vscode-notebook-cell:/Users/peter_parker/Desktop/DATAHACKS-2025/search/sonar_trial.ipynb#X20sZmlsZQ%3D%3D?line=5'>6</a>\u001b[0m \u001b[39mprint\u001b[39m(\u001b[39m\"\u001b[39m\u001b[39mTimeline generated successfully:\u001b[39m\u001b[39m\"\u001b[39m)\n\u001b[1;32m      <a href='vscode-notebook-cell:/Users/peter_parker/Desktop/DATAHACKS-2025/search/sonar_trial.ipynb#X20sZmlsZQ%3D%3D?line=6'>7</a>\u001b[0m \u001b[39mfor\u001b[39;00m year, event \u001b[39min\u001b[39;00m \u001b[39mzip\u001b[39m(timeline_data\u001b[39m.\u001b[39myear, timeline_data\u001b[39m.\u001b[39mevent_description):\n",
      "File \u001b[0;32m~/anaconda3/envs/dsc80/lib/python3.12/site-packages/pydantic/main.py:1214\u001b[0m, in \u001b[0;36mBaseModel.parse_raw\u001b[0;34m(cls, b, content_type, encoding, proto, allow_pickle)\u001b[0m\n\u001b[1;32m   1207\u001b[0m     \u001b[39m# ctx is missing here, but since we've added `input` to the error, we're not pretending it's the same\u001b[39;00m\n\u001b[1;32m   1208\u001b[0m     error: pydantic_core\u001b[39m.\u001b[39mInitErrorDetails \u001b[39m=\u001b[39m {\n\u001b[1;32m   1209\u001b[0m         \u001b[39m# The type: ignore on the next line is to ignore the requirement of LiteralString\u001b[39;00m\n\u001b[1;32m   1210\u001b[0m         \u001b[39m'\u001b[39m\u001b[39mtype\u001b[39m\u001b[39m'\u001b[39m: pydantic_core\u001b[39m.\u001b[39mPydanticCustomError(type_str, \u001b[39mstr\u001b[39m(exc)),  \u001b[39m# type: ignore\u001b[39;00m\n\u001b[1;32m   1211\u001b[0m         \u001b[39m'\u001b[39m\u001b[39mloc\u001b[39m\u001b[39m'\u001b[39m: (\u001b[39m'\u001b[39m\u001b[39m__root__\u001b[39m\u001b[39m'\u001b[39m,),\n\u001b[1;32m   1212\u001b[0m         \u001b[39m'\u001b[39m\u001b[39minput\u001b[39m\u001b[39m'\u001b[39m: b,\n\u001b[1;32m   1213\u001b[0m     }\n\u001b[0;32m-> 1214\u001b[0m     \u001b[39mraise\u001b[39;00m pydantic_core\u001b[39m.\u001b[39mValidationError\u001b[39m.\u001b[39mfrom_exception_data(\u001b[39mcls\u001b[39m\u001b[39m.\u001b[39m\u001b[39m__name__\u001b[39m, [error])\n\u001b[1;32m   1215\u001b[0m \u001b[39mreturn\u001b[39;00m \u001b[39mcls\u001b[39m\u001b[39m.\u001b[39mmodel_validate(obj)\n",
      "\u001b[0;31mValidationError\u001b[0m: 1 validation error for Timeline\n__root__\n  Unterminated string starting at: line 1 column 401 (char 400) [type=value_error.jsondecode, input_value='{\"year\":[\"2018\",\">2018\",...018\",\">2018\",\">2018\",\">', input_type=str]"
     ]
    }
   ],
   "source": [
    "timeline_json_string = response.choices[0].message.content\n",
    "# print(timeline_json_string) # Optional: print raw JSON string\n",
    "\n",
    "# Validate with Pydantic\n",
    "timeline_data = Timeline.parse_raw(timeline_json_string)\n",
    "print(\"Timeline generated successfully:\")\n",
    "for year, event in zip(timeline_data.year, timeline_data.event_description):\n",
    "    print(f\"- {year}: {event}\")\n"
   ]
  },
  {
   "cell_type": "code",
   "execution_count": 88,
   "metadata": {},
   "outputs": [
    {
     "ename": "SyntaxError",
     "evalue": "unterminated string literal (detected at line 1) (<string>, line 1)",
     "output_type": "error",
     "traceback": [
      "Traceback \u001b[0;36m(most recent call last)\u001b[0m:\n",
      "\u001b[0m  File \u001b[1;32m~/anaconda3/envs/dsc80/lib/python3.12/site-packages/IPython/core/interactiveshell.py:3577\u001b[0m in \u001b[1;35mrun_code\u001b[0m\n    exec(code_obj, self.user_global_ns, self.user_ns)\u001b[0m\n",
      "\u001b[0;36m  Cell \u001b[0;32mIn[88], line 22\u001b[0;36m\n\u001b[0;31m    years = [extract_year(i) for i in eval(response.choices[0].message.content)['year']]\u001b[0;36m\n",
      "\u001b[0;36m  File \u001b[0;32m<string>:1\u001b[0;36m\u001b[0m\n\u001b[0;31m    {\"year\":[\"2018\",\">2018\",\">2018\",\">2018\",\">2018\",\">2018\",\">2018\",\">2018\",\">2018\",\">2018\",\">2018\",\">2018\",\">2018\",\">2018\",\">2018\",\">2018\",\">2018\",\">2018\",\">2018\",\">2018\",\">2018\",\">2018\",\">2018\",\">2018\",\">2018\",\">2018\",\">2018\",\">2018\",\">2018\",\">2018\",\">2018\",\">2018\",\">2018\",\">2018\",\">2018\",\">2018\",\">2018\",\">2018\",\">2018\",\">2018\",\">2018\",\">2018\",\">2018\",\">2018\",\">2018\",\">2018\",\">2018\",\">2018\",\">2018\",\">2018\",\">2018\",\">2018\",\">2018\",\">2018\",\">2018\",\">2018\",\">2018\",\">2018\",\">2018\",\">2018\",\">2018\",\">2018\",\">2018\",\">2018\",\">2018\",\">2018\",\">2018\",\">2018\",\">2018\",\">2018\",\">2018\",\">2018\",\">2018\",\">2018\",\">2018\",\">2018\",\">2018\",\">2018\",\">2018\",\">2018\",\">2018\",\">2018\",\">2018\",\">2018\",\">2018\",\">2018\",\">2018\",\">2018\",\">2018\",\">2018\",\">2018\",\">2018\",\">2018\",\">2018\",\">2018\",\">2018\",\">2018\",\">2018\",\">2018\",\">2018\",\">2018\",\">2018\",\">2018\",\">2018\",\">2018\",\">2018\",\">2018\",\">2018\",\">2018\",\">2018\",\">2018\",\">2018\",\">2018\",\">2018\",\">2018\",\">2018\",\">2018\",\">2018\",\">2018\",\">2018\",\">2018\",\">2018\",\">2018\",\">2018\",\">2018\",\">2018\",\">2018\",\">2018\",\">2018\",\">2018\",\">2018\",\">2018\",\">2018\",\">2018\",\">2018\",\">2018\",\">2018\",\">2018\",\">2018\",\">2018\",\">2018\",\">2018\",\">2018\",\">2018\",\">2018\",\">2018\",\">2018\",\">2018\",\">2018\",\">2018\",\">2018\",\">2018\",\">2018\",\">2018\",\">2018\",\">2018\",\">2018\",\">2018\",\">2018\",\">2018\",\">2018\",\">2018\",\">2018\",\">2018\",\">2018\",\">2018\",\">2018\",\">2018\",\">2018\",\">2018\",\">2018\",\">2018\",\">2018\",\">2018\",\">2018\",\">2018\",\">2018\",\">2018\",\">2018\",\">2018\",\">2018\",\">2018\",\">2018\",\">2018\",\">2018\",\">2018\",\">2018\",\">2018\",\">2018\",\">2018\",\">2018\",\">2018\",\">2018\",\">2018\",\">2018\",\">2018\",\">2018\",\">2018\",\">2018\",\">2018\",\">2018\",\">2018\",\">2018\",\">2018\",\">2018\",\">2018\",\">2018\",\">2018\",\">2018\",\">2018\",\">2018\",\">2018\",\">2018\",\">2018\",\">2018\",\">2018\",\">2018\",\">2018\",\">2018\",\">2018\",\">2018\",\">2018\",\">2018\",\">2018\",\">2018\",\">2018\",\">2018\",\">2018\",\">2018\",\">2018\",\">2018\",\">2018\",\">2018\",\">2018\",\">2018\",\">2018\",\">2018\",\">2018\",\">2018\",\">2018\",\">2018\",\">2018\",\">2018\",\">2018\",\">2018\",\">2018\",\">2018\",\">2018\",\">2018\",\">2018\",\">2018\",\">2018\",\">2018\",\">2018\",\">2018\",\">2018\",\">2018\",\">2018\",\">2018\",\">2018\",\">2018\",\">2018\",\">2018\",\">2018\",\">2018\",\">2018\",\">2018\",\">2018\",\">2018\",\">2018\",\">2018\",\">2018\",\">2018\",\">2018\",\">2018\",\">2018\",\">2018\",\">2018\",\">2018\",\">2018\",\">2018\",\">2018\",\">2018\",\">2018\",\">2018\",\">2018\",\">2018\",\">2018\",\">2018\",\">2018\",\">2018\",\">2018\",\">2018\",\">2018\",\">2018\",\">2018\",\">2018\",\">2018\",\">2018\",\">2018\",\">2018\",\">2018\",\">2018\",\">2018\",\">2018\",\">2018\",\">2018\",\">2018\",\">2018\",\">2018\",\">2018\",\">2018\",\">2018\",\">2018\",\">2018\",\">2018\",\">2018\",\">2018\",\">2018\",\">2018\",\">2018\",\">2018\",\">2018\",\">2018\",\">2018\",\">2018\",\">2018\",\">2018\",\">2018\",\">2018\",\">2018\",\">2018\",\">2018\",\">2018\",\">2018\",\">2018\",\">2018\",\">2018\",\">2018\",\">2018\",\">2018\",\">2018\",\">2018\",\">2018\",\">2018\",\">2018\",\">2018\",\">2018\",\">2018\",\">2018\",\">2018\",\">2018\",\">2018\",\">2018\",\">2018\",\">2018\",\">2018\",\">2018\",\">2018\",\">2018\",\">2018\",\">2018\",\">2018\",\">2018\",\">2018\",\">2018\",\">2018\",\">2018\",\">2018\",\">2018\",\">2018\",\">2018\",\">2018\",\">2018\",\">2018\",\">2018\",\">2018\",\">2018\",\">2018\",\">2018\",\">2018\",\">2018\",\">2018\",\">2018\",\">2018\",\">2018\",\">2018\",\">2018\",\">2018\",\">2018\",\">2018\",\">2018\",\">2018\",\">2018\",\">2018\",\">2018\",\">2018\",\">2018\",\">2018\",\">2018\",\">2018\",\">2018\",\">2018\",\">2018\",\">2018\",\">2018\",\">2018\",\">2018\",\">2018\",\">2018\",\">2018\",\">2018\",\">2018\",\">2018\",\">2018\",\">2018\",\">2018\",\">2018\",\">2018\",\">2018\",\">2018\",\">2018\",\">2018\",\">2018\",\">2018\",\">2018\",\">2018\",\">2018\",\">2018\",\">2018\",\">2018\",\">2018\",\">2018\",\">2018\",\">2018\",\">2018\",\">2018\",\">2018\",\">2018\",\">2018\",\">2018\",\">2018\",\">2018\",\">2018\",\">2018\",\">2018\",\">2018\",\">2018\",\">2018\",\">2018\",\">2018\",\">2018\",\">2018\",\">2018\",\">2018\",\">2018\",\">2018\",\">2018\",\">2018\",\">2018\",\">2018\",\">2018\",\">2018\",\">2018\",\">2018\",\">2018\",\">2018\",\">2018\",\">2018\",\">2018\",\">2018\",\">2018\",\">2018\",\">2018\",\">2018\",\">2018\",\">2018\",\">2018\",\">2018\",\">2018\",\">2018\",\">2018\",\">2018\",\">2018\",\">2018\",\">2018\",\">2018\",\">2018\",\">2018\",\">2018\",\">2018\",\">2018\",\">2018\",\">2018\",\">2018\",\">2018\",\">2018\",\">2018\",\">2018\",\">2018\",\">2018\",\">2018\",\">2018\",\">2018\",\">2018\",\">2018\",\">2018\",\">2018\",\">2018\",\">2018\",\">2018\",\">2018\",\">2018\",\">2018\",\">2018\",\">2018\",\">2018\",\">2018\",\">2018\",\">2018\",\">2018\",\">2018\",\">2018\",\">2018\",\">2018\",\">2018\",\">2018\",\">2018\",\">2018\",\">2018\",\">2018\",\">2018\",\">2018\",\">2018\",\">2018\",\">2018\",\">2018\",\">2018\",\">2018\",\">2018\",\">2018\",\">2018\",\">2018\",\">2018\",\">2018\",\">2018\",\">2018\",\">2018\",\">2018\",\">2018\",\">2018\",\">2018\",\">2018\",\">2018\",\">2018\",\">2018\",\">2018\",\">2018\",\">2018\",\">2018\",\">2018\",\">2018\",\">2018\",\">2018\",\">2018\",\">2018\",\">2018\",\">2018\",\">2018\",\">2018\",\">2018\",\">2018\",\">2018\",\">2018\",\">2018\",\">2018\",\">2018\",\">2018\",\">2018\",\">2018\",\">2018\",\">2018\",\">2018\",\">2018\",\">2018\",\">2018\",\">2018\",\">2018\",\">2018\",\">2018\",\">2018\",\">2018\",\">2018\",\">2018\",\">2018\",\">2018\",\">2018\",\">2018\",\">2018\",\">2018\",\">2018\",\">2018\",\">2018\",\">2018\",\">2018\",\">2018\",\">2018\",\">2018\",\">2018\",\">2018\",\">2018\",\">2018\",\">2018\",\">2018\",\">2018\",\">2018\",\">2018\",\">2018\",\">2018\",\">2018\",\">2018\",\">2018\",\">2018\",\">2018\",\">2018\",\">2018\",\">2018\",\">2018\",\">2018\",\">2018\",\">2018\",\">2018\",\">2018\",\">2018\",\">2018\",\">2018\",\">2018\",\">2018\",\">2018\",\">2018\",\">2018\",\">2018\",\">2018\",\">2018\",\">2018\",\">2018\",\">2018\",\">2018\",\">2018\",\">2018\",\">2018\",\">2018\",\">2018\",\">2018\",\">2018\",\">2018\",\">2018\",\">2018\",\">2018\",\">2018\",\">2018\",\">2018\",\">2018\",\">2018\",\">2018\",\">2018\",\">2018\",\">2018\",\">2018\",\">2018\",\">2018\",\">2018\",\">2018\",\">2018\",\">2018\",\">2018\",\">2018\",\">2018\",\">2018\",\">2018\",\">2018\",\">2018\",\">2018\",\">2018\",\">2018\",\">2018\",\">2018\",\">2018\",\">2018\",\">2018\",\">2018\",\">2018\",\">2018\",\">2018\",\">2018\",\">2018\",\">2018\",\">2018\",\">2018\",\">2018\",\">2018\",\">2018\",\">2018\",\">2018\",\">2018\",\">2018\",\">2018\",\">2018\",\">2018\",\">2018\",\">2018\",\">2018\",\">2018\",\">2018\",\">2018\",\">2018\",\">2018\",\">2018\",\">2018\",\">2018\",\">2018\",\">2018\",\">2018\",\">2018\",\">2018\",\">2018\",\">2018\",\">2018\",\">2018\",\">2018\",\">2018\",\">2018\",\">2018\",\">2018\",\">2018\",\">2018\",\">2018\",\">2018\",\">2018\",\">2018\",\">2018\",\">2018\",\">2018\",\">2018\",\">2018\",\">2018\",\">2018\",\">2018\",\">2018\",\">2018\",\">2018\",\">2018\",\">2018\",\">2018\",\">2018\",\">2018\",\">2018\",\">2018\",\">2018\",\">2018\",\">2018\",\">2018\",\">2018\",\">2018\",\">2018\",\">2018\",\">2018\",\">2018\",\">2018\",\">2018\",\">2018\",\">2018\",\">2018\",\">2018\",\">2018\",\">2018\",\">2018\",\">2018\",\">2018\",\">2018\",\">2018\",\">2018\",\">2018\",\">2018\",\">2018\",\">2018\",\">2018\",\">2018\",\">2018\",\">2018\",\">2018\",\">2018\",\">2018\",\">2018\",\">2018\",\">2018\",\">2018\",\">2018\",\">2018\",\">2018\",\">2018\",\">2018\",\">2018\",\">2018\",\">2018\",\">2018\",\">2018\",\">2018\",\">2018\",\">2018\",\">2018\",\">2018\",\">2018\",\">2018\",\">2018\",\">2018\",\">2018\",\">2018\",\">2018\",\">2018\",\">2018\",\">2018\",\">2018\",\">2018\",\">2018\",\">2018\",\">2018\",\">2018\",\">2018\",\">2018\",\">2018\",\">2018\",\">2018\",\">2018\",\">2018\",\">2018\",\">2018\",\">2018\",\">2018\",\">2018\",\">2018\",\">2018\",\">2018\",\">2018\",\">2018\",\">2018\",\">2018\",\">2018\",\">2018\",\">2018\",\">2018\",\">2018\",\">2018\",\">2018\",\">2018\",\">2018\",\">2018\",\">2018\",\">2018\",\">2018\",\">2018\",\">2018\",\">2018\",\">2018\",\">2018\",\">2018\",\">2018\",\">2018\",\">2018\",\">2018\",\">2018\",\">2018\",\">2018\",\">2018\",\">2018\",\">2018\",\">2018\",\">2018\",\">2018\",\">2018\",\">2018\",\">2018\",\">2018\",\">2018\",\">2018\",\">2018\",\">2018\",\">2018\",\">2018\",\">2018\",\">2018\",\">2018\",\">2018\",\">2018\",\">2018\",\">2018\",\">2018\",\">2018\",\">2018\",\">2018\",\">2018\",\">2018\",\">2018\",\">2018\",\">2018\",\">2018\",\">2018\",\">2018\",\">2018\",\">2018\",\">2018\",\">2018\",\">2018\",\">2018\",\">2018\",\">2018\",\">2018\",\">2018\",\">2018\",\">2018\",\">2018\",\">2018\",\">2018\",\">2018\",\">2018\",\">2018\",\">2018\",\">2018\",\">2018\",\">2018\",\">2018\",\">2018\",\">2018\",\">2018\",\">2018\",\">2018\",\">2018\",\">2018\",\">2018\",\">2018\",\">2018\",\">2018\",\">2018\",\">2018\",\">2018\",\">2018\",\">2018\",\">2018\",\">2018\",\">2018\",\">2018\",\">2018\",\">2018\",\">2018\",\">2018\",\">2018\",\">2018\",\">2018\",\">2018\",\">2018\",\">2018\",\">2018\",\">2018\",\">2018\",\">2018\",\">2018\",\">2018\",\">2018\",\">2018\",\">2018\",\">2018\",\">2018\",\">2018\",\">2018\",\">2018\",\">2018\",\">2018\",\">2018\",\">2018\",\">2018\",\">2018\",\">2018\",\">2018\",\">2018\",\">2018\",\">2018\",\">2018\",\">2018\",\">2018\",\">2018\",\">2018\",\">2018\",\">2018\",\">2018\",\">2018\",\">2018\",\">2018\",\">2018\",\">2018\",\">2018\",\">2018\",\">2018\",\">2018\",\">2018\",\">2018\",\">2018\",\">2018\",\">2018\",\">2018\",\">2018\",\">2018\",\">2018\",\">2018\",\">2018\",\">2018\",\">2018\",\">2018\",\">2018\",\">2018\",\">2018\",\">2018\",\">2018\",\">2018\",\">2018\",\">2018\",\">2018\",\">2018\",\">2018\",\">2018\",\">2018\",\">2018\",\">2018\",\">2018\",\">2018\",\">2018\",\">2018\",\">2018\",\">2018\",\">2018\",\">2018\",\">2018\",\">2018\",\">2018\",\">2018\",\">2018\",\">2018\",\">2018\",\">2018\",\">2018\",\">2018\",\">2018\",\">2018\",\">2018\",\">2018\",\">2018\",\">2018\",\">2018\",\">2018\",\">2018\",\">2018\",\">2018\",\">2018\",\">2018\",\">2018\",\">2018\",\">2018\",\">2018\",\">2018\",\">2018\",\">2018\",\">2018\",\">2018\",\">2018\",\">2018\",\">2018\",\">2018\",\">2018\",\">2018\",\">2018\",\">2018\",\">2018\",\">2018\",\">2018\",\">2018\",\">2018\",\">2018\",\">2018\",\">2018\",\">2018\",\">2018\",\">2018\",\">2018\",\">2018\",\">2018\",\">2018\",\">2018\",\">2018\",\">2018\",\">2018\",\">2018\",\">2018\",\">2018\",\">2018\",\">2018\",\">2018\",\">2018\",\">2018\",\">2018\",\">2018\",\">2018\",\">2018\",\">2018\",\">2018\",\">2018\",\">2018\",\">2018\",\">2018\",\">2018\",\">2018\",\">2018\",\">2018\",\">2018\",\">2018\",\">2018\",\">2018\",\">2018\",\">2018\",\">2018\",\">2018\",\">2018\",\">2018\",\">2018\",\">2018\",\">2018\",\">2018\",\">2018\",\">2018\",\">2018\",\">2018\",\">2018\",\">2018\",\">2018\",\">2018\",\">2018\",\">2018\",\">2018\",\">2018\",\">2018\",\">2018\",\">2018\",\">2018\",\">2018\",\">2018\",\">2018\",\">2018\",\">2018\",\">2018\",\">2018\",\">2018\",\">2018\",\">2018\",\">2018\",\">2018\",\">2018\",\">2018\",\">2018\",\">2018\",\">2018\",\">2018\",\">2018\",\">2018\",\">2018\",\">2018\",\">2018\",\">2018\",\">2018\",\">2018\",\">2018\",\">2018\",\">2018\",\">2018\",\">2018\",\">2018\",\">2018\",\">2018\",\">2018\",\">2018\",\">2018\",\">2018\",\">2018\",\">2018\",\">2018\",\">2018\",\">2018\",\">2018\",\">2018\",\">2018\",\">2018\",\">2018\",\">2018\",\">2018\",\">2018\",\">2018\",\">2018\",\">2018\",\">2018\",\">2018\",\">2018\",\">2018\",\">2018\",\">2018\",\">2018\",\">2018\",\">2018\",\">2018\",\">2018\",\">2018\",\">2018\",\">2018\",\">2018\",\">2018\",\">2018\",\">2018\",\">2018\",\">2018\",\">2018\",\">2018\",\">2018\",\">2018\",\">2018\",\">2018\",\">2018\",\">2018\",\">2018\",\">2018\",\">2018\",\">2018\",\">2018\",\">2018\",\">2018\",\">2018\",\">2018\",\">2018\",\">2018\",\">2018\",\">2018\",\">2018\",\">2018\",\">2018\",\">2018\",\">2018\",\">2018\",\">2018\",\">2018\",\">2018\",\">2018\",\">2018\",\">2018\",\">2018\",\">2018\",\">2018\",\">2018\",\">2018\",\">2018\",\">2018\",\">2018\",\">2018\",\">2018\",\">2018\",\">2018\",\">2018\",\">2018\",\">2018\",\">2018\",\">2018\",\">2018\",\">2018\",\">2018\",\">2018\",\">2018\",\">2018\",\">2018\",\">2018\",\">2018\",\">2018\",\">2018\",\">2018\",\">2018\",\">2018\",\">2018\",\">2018\",\">2018\",\">2018\",\">2018\",\">2018\",\">2018\",\">2018\",\">2018\",\">2018\",\">2018\",\">2018\",\">2018\",\">2018\",\">2018\",\">2018\",\">2018\",\">2018\",\">2018\",\">2018\",\">2018\",\">2018\",\">2018\",\">2018\",\">2018\",\">2018\",\">2018\",\">2018\",\">2018\",\">2018\",\">2018\",\">2018\",\">2018\",\">2018\",\">2018\",\">2018\",\">2018\",\">2018\",\">2018\",\">2018\",\">2018\",\">2018\",\">2018\",\">2018\",\">2018\",\">2018\",\">2018\",\">2018\",\">2018\",\">2018\",\">2018\",\">2018\",\">2018\",\">2018\",\">2018\",\">2018\",\">2018\",\">2018\",\">2018\",\">2018\",\">2018\",\">2018\",\">2018\",\">2018\",\">2018\",\">2018\",\">2018\",\">2018\",\">2018\",\">2018\",\">2018\",\">2018\",\">2018\",\">2018\",\">2018\",\">2018\",\">2018\",\">2018\",\">2018\",\">2018\",\">2018\",\">2018\",\">2018\",\">2018\",\">2018\",\">2018\",\">2018\",\">2018\",\">2018\",\">2018\",\">2018\",\">2018\",\">2018\",\">2018\",\">2018\",\">2018\",\">2018\",\">2018\",\">2018\",\">2018\",\">2018\",\">2018\",\">2018\",\">2018\",\">2018\",\">2018\",\">2018\",\">2018\",\">2018\",\">2018\",\">2018\",\">2018\",\">2018\",\">2018\",\">2018\",\">2018\",\">2018\",\">2018\",\">2018\",\">2018\",\">2018\",\">2018\",\">2018\",\">2018\",\">2018\",\">2018\",\">2018\",\">2018\",\">2018\",\">2018\",\">2018\",\">2018\",\">2018\",\">2018\",\">2018\",\">2018\",\">2018\",\">2018\",\">2018\",\">2018\",\">2018\",\">2018\",\">2018\",\">2018\",\">2018\",\">2018\",\">2018\",\">2018\",\">2018\",\">2018\",\">2018\",\">2018\",\">2018\",\">2018\",\">2018\",\">2018\",\">2018\",\">2018\",\">2018\",\">2018\",\">2018\",\">2018\",\">2018\",\">2018\",\">2018\",\">2018\",\">2018\",\">2018\",\">2018\",\">2018\",\">2018\",\">2018\",\">2018\",\">2018\",\">2018\",\">2018\",\">2018\",\">2018\",\">2018\",\">2018\",\">2018\",\">2018\",\">2018\",\">2018\",\">2018\",\">2018\",\">2018\",\">2018\",\">2018\",\">2018\",\">2018\",\">2018\",\">2018\",\">2018\",\">2018\",\">2018\",\">2018\",\">2018\",\">2018\",\">2018\",\">2018\",\">2018\",\">2018\",\">2018\",\">2018\",\">2018\",\">2018\",\">2018\",\">2018\",\">2018\",\">2018\",\">2018\",\">2018\",\">2018\",\">2018\",\">2018\",\">2018\",\">2018\",\">2018\",\">2018\",\">2018\",\">2018\",\">2018\",\">2018\",\">2018\",\">2018\",\">2018\",\">2018\",\">2018\",\">2018\",\">2018\",\">2018\",\">2018\",\">2018\",\">2018\",\">2018\",\">2018\",\">2018\",\">2018\",\">2018\",\">2018\",\">2018\",\">2018\",\">2018\",\">2018\",\">2018\",\">2018\",\">2018\",\">2018\",\">2018\",\">2018\",\">2018\",\">2018\",\">2018\",\">2018\",\">2018\",\">2018\",\">2018\",\">2018\",\">2018\",\">2018\",\">2018\",\">2018\",\">2018\",\">2018\",\">2018\",\">2018\",\">2018\",\">2018\",\">2018\",\">2018\",\">2018\",\">2018\",\">2018\",\">2018\",\">2018\",\">2018\",\">2018\",\">2018\",\">2018\",\">2018\",\">2018\",\">2018\",\">2018\",\">2018\",\">2018\",\">2018\",\">2018\",\">2018\",\">2018\",\">2018\",\">2018\",\">2018\",\">2018\",\">2018\",\">2018\",\">2018\",\">2018\",\">2018\",\">2018\",\">2018\",\">2018\",\">2018\",\">2018\",\">2018\",\">2018\",\">2018\",\">2018\",\">2018\",\">2018\",\">2018\",\">2018\",\">2018\",\">2018\",\">2018\",\">2018\",\">2018\",\">2018\",\">2018\",\">2018\",\">2018\",\">2018\",\">2018\",\">2018\",\">2018\",\">2018\",\">2018\",\">2018\",\">2018\",\">2018\",\">2018\",\">2018\",\">2018\",\">2018\",\">2018\",\">2018\",\">2018\",\">2018\",\">2018\",\">2018\",\">2018\",\">2018\",\">2018\",\">2018\",\">2018\",\">2018\",\">2018\",\">2018\",\">2018\",\">2018\",\">2018\",\">2018\",\">2018\",\">2018\",\">2018\",\">2018\",\">2018\",\">2018\",\">2018\",\">2018\",\">2018\",\">2018\",\">2018\",\">2018\",\">2018\",\">2018\",\">2018\",\">2018\",\">2018\",\">2018\",\">2018\",\">2018\",\">2018\",\">2018\",\">2018\",\">2018\",\">2018\",\">2018\",\">2018\",\">2018\",\">2018\",\">2018\",\">2018\",\">2018\",\">2018\",\">2018\",\">2018\",\">2018\",\">2018\",\">2018\",\">2018\",\">2018\",\">2018\",\">2018\",\">2018\",\">2018\",\">2018\",\">2018\",\">2018\",\">2018\",\">2018\",\">2018\",\">2018\",\">2018\",\">2018\",\">2018\",\">2018\",\">2018\",\">2018\",\">2018\",\">2018\",\">2018\",\">2018\",\">2018\",\">2018\",\">2018\",\">2018\",\">2018\",\">2018\",\">2018\",\">2018\",\">2018\",\">2018\",\">2018\",\">2018\",\">2018\",\">2018\",\">2018\",\">2018\",\">2018\",\">2018\",\">2018\",\">2018\",\">2018\",\">2018\",\">2018\",\">2018\",\">2018\",\">2018\",\">2018\",\">2018\",\">2018\",\">2018\",\">2018\",\">2018\",\">2018\",\">2018\",\">2018\",\">2018\",\">2018\",\">2018\",\">2018\",\">2018\",\">2018\",\">2018\",\">2018\",\">2018\",\">2018\",\">2018\",\">2018\",\">2018\",\">2018\",\">2018\",\">2018\",\">2018\",\">2018\",\">2018\",\">2018\",\">2018\",\">2018\",\">2018\",\">2018\",\">2018\",\">2018\",\">2018\",\">2018\",\">2018\",\">2018\",\">2018\",\">2018\",\">2018\",\">2018\",\">2018\",\">2018\",\">2018\",\">2018\",\">2018\",\">2018\",\">2018\",\">2018\",\">2018\",\">2018\",\">2018\",\">2018\",\">2018\",\">2018\",\">2018\",\">2018\",\">2018\",\">2018\",\">2018\",\">2018\",\">2018\",\">2018\",\">2018\",\">2018\",\">2018\",\">2018\",\">2018\",\">2018\",\">2018\",\">2018\",\">2018\",\">2018\",\">2018\",\">2018\",\">2018\",\">2018\",\">2018\",\">2018\",\">2018\",\">2018\",\">2018\",\">2018\",\">2018\",\">2018\",\">2018\",\">2018\",\">2018\",\">2018\",\">2018\",\">2018\",\">2018\",\">2018\",\">2018\",\">2018\",\">2018\",\">2018\",\">2018\",\">2018\",\">2018\",\">2018\",\">2018\",\">2018\",\">2018\",\">2018\",\">2018\",\">2018\",\">2018\",\">2018\",\">2018\",\">2018\",\">2018\",\">2018\",\">2018\",\">2018\",\">2018\",\">2018\",\">2018\",\">2018\",\">2018\",\">2018\",\">2018\",\">2018\",\">2018\",\">2018\",\">2018\",\">2018\",\">2018\",\">2018\",\">2018\",\">2018\",\">2018\",\">2018\",\">2018\",\">2018\",\">2018\",\">2018\",\">2018\",\">2018\",\">2018\",\">2018\",\">2018\",\">2018\",\">2018\",\">2018\",\">2018\",\">2018\",\">2018\",\">2018\",\">2018\",\">2018\",\">2018\",\">2018\",\">2018\",\">2018\",\">2018\",\">2018\",\">2018\",\">2018\",\">2018\",\">2018\",\">2018\",\">2018\",\">2018\",\">2018\",\">2018\",\">2018\",\">2018\",\">2018\",\">2018\",\">2018\",\">2018\",\">2018\",\">2018\",\">2018\",\">2018\",\">2018\",\">2018\",\">2018\",\">2018\",\">2018\",\">2018\",\">2018\",\">2018\",\">2018\",\">2018\",\">2018\",\">2018\",\">2018\",\">2018\",\">2018\",\">2018\",\">2018\",\">2018\",\">2018\",\">2018\",\">2018\",\">2018\",\">2018\",\">2018\",\">2018\",\">2018\",\">2018\",\">2018\",\">2018\",\">2018\",\">2018\",\">2018\",\">2018\",\">2018\",\">2018\",\">2018\",\">2018\",\">2018\",\">2018\",\">2018\",\">2018\",\">2018\",\">2018\",\">2018\",\">2018\",\">2018\",\">2018\",\">2018\",\">2018\",\">2018\",\">2018\",\">2018\",\">2018\",\">2018\",\">2018\",\">2018\",\">2018\",\">2018\",\">2018\",\">2018\",\">2018\",\">2018\",\">2018\",\">2018\",\">2018\",\">2018\",\">2018\",\">2018\",\">2018\",\">2018\",\">2018\",\">2018\",\">2018\",\">2018\",\">2018\",\">2018\",\">2018\",\">2018\",\">2018\",\">2018\",\">2018\",\">2018\",\">2018\",\">2018\",\">2018\",\">2018\",\">2018\",\">2018\",\">2018\",\">2018\",\">2018\",\">2018\",\">2018\",\">2018\",\">2018\",\">2018\",\">2018\",\">2018\",\">2018\",\">2018\",\">2018\",\">2018\",\">2018\",\">2018\",\">2018\",\">2018\",\">2018\",\">2018\",\">2018\",\">2018\",\">2018\",\">2018\",\">2018\",\">2018\",\">2018\",\">2018\",\">2018\",\">2018\",\">2018\",\">2018\",\">2018\",\">2018\",\">2018\",\">2018\",\">2018\",\">2018\",\">2018\",\">2018\",\">2018\",\">2018\",\">2018\",\">2018\",\">2018\",\">2018\",\">2018\",\">2018\",\">2018\",\">2018\",\">2018\",\">2018\",\">2018\",\">\u001b[0m\n\u001b[0m                                                                                                                                                                                                                                                                                                                                                                                                                                                                                                                                                                                                                                                                                                                                                                                                                                                                                                                                                                                                                                                                                                                                                                                                                                                                                                                                                                                                                                                                                                                                                                                                                                                                                                                                                                                                                                                                                                                                                                                                                                                                                                                                                                                                                                                                                                                                                                                                                                                                                                                                                                                                                                                                                                                                                                                                                                                                                                                                                                                                                                                                                                                                                                                                                                                                                                                                                                                                                                                                                                                                                                                                                                                                                                                                                                                                                                                                                                                                                                                                                                                                                                                                                                                                                                                                                                                                                                                                                                                                                                                                                                                                                                                                                                                                                                                                                                                                                                                                                                                                                                                                                                                                                                                                                                                                                                                                                                                                                                                                                                                                                                                                                                                                                                                                                                                                                                                                                                                                                                                                                                                                                                                                                                                                                                                                                                                                                                                                                                                                                                                                                                                                                                                                                                                                                                                                                                                                                                                                                                                                                                                                                                                                                                                                                                                                                                                                                                                                                                                                                                                                                                                                                                                                                                                                                                                                                                                                                                                                                                                                                                                                                                                                                                                                                                                                                                                                                                                                                                                                                                                                                                                                                                                                                                                                                                                                                                                                                                                                                                                                                                                                                                                                                                                                                                                                                                                                                                                                                                                                                                                                                                                                                                                                                                                                                                                                                                                                                                                                                                                                                                                                                                                                                                                                                                                                                                                                                                                                                                                                                                                                                                                                                                                                                                                                                                                                                                                                                                                                                                                                                                                                                                                                                                                                                                                                                                                                                                                                                                                                                                                                                                                                                                                                                                                                                                                                                                                                                                                                                                                                                                                                                                                                                                                                                                                                                                                                                                                                                                                                                                                                                                                                                                                                                                                                                                                                                                                                                                                                                                                                                                                                                                                                                                                                                                                                                                                                                                                                                                                                                                                                                                                                                                                                                                                                                                                                                                                                                                                                                                                                                                                                                                                                                                                                                                                                                                                                                                                                                                                                                                                                                                                                                                                                                                                                                                                                                                                                                                                                                                                                                                                                                                                                                                                                                                                                                                                                                                                                                                                                                                                                                                                                                                                                                                                                                                                                                                                                                                                                                                                                                                                                                                                                                                                                                                                                                                                                                                                                                                                                                                                                                                                                                                                                                                                                                                                                                                                                                                                                                                                                                                                                    ^\u001b[0m\n\u001b[0;31mSyntaxError\u001b[0m\u001b[0;31m:\u001b[0m unterminated string literal (detected at line 1)\n"
     ]
    }
   ],
   "source": [
    "def extract_year(unclean_year):\n",
    "    \"\"\"\n",
    "    Extracts the year from the unclean year string.\n",
    "    \"\"\"\n",
    "    if isinstance(unclean_year, str):\n",
    "        # Remove any non-digit characters\n",
    "        clean_year = ''.join(filter(str.isdigit, unclean_year))\n",
    "        return int(clean_year)\n",
    "    else:\n",
    "        return unclean_year\n",
    "    \n",
    "\n",
    "def markdown_to_txt(markdown):\n",
    "    \"\"\"\n",
    "    Converts markdown to plain text.\n",
    "    \"\"\"\n",
    "    # Remove markdown formatting\n",
    "    clean_text = markdown.replace('#', '').replace('*', '').replace('**', '')\n",
    "    return clean_text.strip()\n",
    "\n",
    "\n",
    "years = [extract_year(i) for i in eval(response.choices[0].message.content)['year']]\n",
    "events = [markdown_to_txt(i) for i in eval(response.choices[0].message.content)['event_description']]\n",
    "\n",
    "min_length = min(len(years), len(events))\n",
    "years = years[:min_length]\n",
    "events = events[:min_length]\n",
    "\n",
    "timeline = dict(zip(years, events))\n",
    "timeline"
   ]
  },
  {
   "cell_type": "code",
   "execution_count": null,
   "metadata": {},
   "outputs": [],
   "source": []
  }
 ],
 "metadata": {
  "kernelspec": {
   "display_name": "Python 3",
   "language": "python",
   "name": "python3"
  },
  "language_info": {
   "codemirror_mode": {
    "name": "ipython",
    "version": 3
   },
   "file_extension": ".py",
   "mimetype": "text/x-python",
   "name": "python",
   "nbconvert_exporter": "python",
   "pygments_lexer": "ipython3",
   "version": "3.12.6"
  }
 },
 "nbformat": 4,
 "nbformat_minor": 2
}
