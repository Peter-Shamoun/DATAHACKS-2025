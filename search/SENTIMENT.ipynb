{
 "cells": [
  {
   "cell_type": "code",
   "execution_count": null,
   "metadata": {},
   "outputs": [
    {
     "name": "stderr",
     "output_type": "stream",
     "text": [
      "Device set to use cpu\n",
      "Processing celebrities: 100%|██████████| 50/50 [01:47<00:00,  2.16s/it]\n",
      "C:\\Users\\16196\\AppData\\Local\\Temp\\ipykernel_3512\\3081625743.py:63: DeprecationWarning: DataFrameGroupBy.apply operated on the grouping columns. This behavior is deprecated, and in a future version of pandas the grouping columns will be excluded from the operation. Either pass `include_groups=False` to exclude the groupings or explicitly select the grouping columns after groupby to silence this warning.\n",
      "  df_extreme = df.groupby(['name', 'year']).apply(get_extreme_article).reset_index()\n"
     ]
    }
   ],
   "source": [
    "import json\n",
    "import pandas as pd\n",
    "from transformers import pipeline\n",
    "from tqdm import tqdm\n",
    "import torch\n",
    "import numpy as np\n",
    "\n",
    "sentiment_pipeline = pipeline(\n",
    "    \"sentiment-analysis\",\n",
    "    model=\"distilbert-base-uncased-finetuned-sst-2-english\",\n",
    "    device=0 if torch.cuda.is_available() else -1\n",
    ")\n",
    "\n",
    "def get_sentiment_score(text):\n",
    "    \"\"\"Helper function to get sentiment score between -1 and 1\"\"\"\n",
    "    try:\n",
    "        result = sentiment_pipeline(text, truncation=True, max_length=512)[0]\n",
    "        score = result['score']\n",
    "        return score if result['label'] == 'POSITIVE' else -score\n",
    "    except Exception as e:\n",
    "        print(f\"Error processing text: {e}\")\n",
    "        return 0.0\n",
    "\n",
    "with open('celebrity_timeline_db.json', 'r') as f:\n",
    "    data = json.load(f)\n",
    "\n",
    "rows = []\n",
    "\n",
    "for celebrity, years in tqdm(data.items(), desc=\"Processing celebrities\"):\n",
    "    for year, articles in tqdm(years.items(), desc=f\"Processing {celebrity}'s years\", leave=False):\n",
    "        for article in articles:\n",
    "            text = article['title'] + \" \" + article['snippet']\n",
    "            sentiment = get_sentiment_score(text)\n",
    "            \n",
    "            row = {\n",
    "                'name': celebrity,\n",
    "                'year': year,\n",
    "                'sentiment score': sentiment,\n",
    "                'title': article['title'],\n",
    "                'link': article.get('link', '') \n",
    "            }\n",
    "            rows.append(row)\n",
    "\n",
    "df = pd.DataFrame(rows)\n",
    "\n",
    "df_avg = df.groupby(['name', 'year'])['sentiment score'].mean().reset_index()\n",
    "df_avg = df_avg.rename(columns={'sentiment score': 'average_sentiment'})\n",
    "\n",
    "def get_extreme_article(group):\n",
    "    extreme_idx = group['sentiment score'].abs().idxmax()\n",
    "    return pd.Series({\n",
    "        'most_extreme_sentiment': group.loc[extreme_idx, 'sentiment score'],\n",
    "        'most_extreme_link': group.loc[extreme_idx, 'link'],\n",
    "        'most_extreme_title': group.loc[extreme_idx, 'title']\n",
    "    })\n",
    "\n",
    "df_extreme = df.groupby(['name', 'year']).apply(get_extreme_article).reset_index()\n",
    "\n",
    "df_avg = pd.merge(df_avg, df_extreme, on=['name', 'year'])\n",
    "\n",
    "df_avg = df_avg[['name', 'year', 'average_sentiment', \n",
    "                 'most_extreme_sentiment', 'most_extreme_title', 'most_extreme_link']]\n",
    "\n",
    "df_avg.to_csv('celebrity_sentiment_analysis.csv', index=False)"
   ]
  }
 ],
 "metadata": {
  "kernelspec": {
   "display_name": "dsc80",
   "language": "python",
   "name": "python3"
  },
  "language_info": {
   "codemirror_mode": {
    "name": "ipython",
    "version": 3
   },
   "file_extension": ".py",
   "mimetype": "text/x-python",
   "name": "python",
   "nbconvert_exporter": "python",
   "pygments_lexer": "ipython3",
   "version": "3.12.6"
  }
 },
 "nbformat": 4,
 "nbformat_minor": 2
}
