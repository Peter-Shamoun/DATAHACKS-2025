{
 "cells": [
  {
   "cell_type": "code",
   "execution_count": 1,
   "id": "04955e25",
   "metadata": {},
   "outputs": [],
   "source": [
    "import requests\n",
    "from bs4 import BeautifulSoup\n",
    "from datetime import datetime"
   ]
  },
  {
   "cell_type": "code",
   "execution_count": 2,
   "id": "920e830b",
   "metadata": {},
   "outputs": [],
   "source": [
    "API_KEY = \"V8obtX28SgKyiiPx2TKWmw==mRI1Rdx8sYMqWnR8\""
   ]
  },
  {
   "cell_type": "code",
   "execution_count": 3,
   "id": "cfe1508f",
   "metadata": {},
   "outputs": [
    {
     "data": {
      "text/plain": [
       "[{'name': 'jennie kim', 'net_worth': 8000000}]"
      ]
     },
     "execution_count": 3,
     "metadata": {},
     "output_type": "execute_result"
    }
   ],
   "source": [
    "def get_info(name):\n",
    "    api_url = f\"https://api.api-ninjas.com/v1/celebrity?name={name}\"\n",
    "    headers = {'X-Api-Key': API_KEY}\n",
    "    response = requests.get(api_url, headers=headers)\n",
    "\n",
    "    if response.status_code == requests.codes.ok:\n",
    "        return response.json()  \n",
    "    else:\n",
    "        print(\"Error:\", response.status_code, response.text)\n",
    "        return None\n",
    "    \n",
    "\n",
    "get_info('Jennie Kim')"
   ]
  },
  {
   "cell_type": "code",
   "execution_count": 4,
   "id": "83a6dc75",
   "metadata": {},
   "outputs": [
    {
     "data": {
      "text/plain": [
       "'No Birthday Found'"
      ]
     },
     "execution_count": 4,
     "metadata": {},
     "output_type": "execute_result"
    }
   ],
   "source": [
    "\n",
    "def bday(name): \n",
    "    result = get_info(name)\n",
    "    if 'birthday' in result[0]: \n",
    "        date_str = result[0]['birthday']\n",
    "        date_obj = datetime.strptime(date_str, '%Y-%m-%d')\n",
    "        return date_obj.strftime('%B %d, %Y')\n",
    "    else: \n",
    "        return \"No Birthday Found\"\n",
    "\n",
    "bday('Jennie Kim')"
   ]
  },
  {
   "cell_type": "code",
   "execution_count": 5,
   "id": "317b09b3",
   "metadata": {},
   "outputs": [
    {
     "data": {
      "text/plain": [
       "'No Occupation Found'"
      ]
     },
     "execution_count": 5,
     "metadata": {},
     "output_type": "execute_result"
    }
   ],
   "source": [
    "\n",
    "def occupation(name): \n",
    "    result = get_info(name)\n",
    "    if 'occupation' in result[0]:\n",
    "        return result[0]['occupation']\n",
    "    else: \n",
    "        return 'No Occupation Found'\n",
    "\n",
    "occupation('Jennie Kim')"
   ]
  },
  {
   "cell_type": "code",
   "execution_count": 6,
   "id": "05037fc0",
   "metadata": {},
   "outputs": [
    {
     "data": {
      "text/plain": [
       "'No age found'"
      ]
     },
     "execution_count": 6,
     "metadata": {},
     "output_type": "execute_result"
    }
   ],
   "source": [
    "def age(name):\n",
    "    birthday_str = bday(name) \n",
    "    if birthday_str == 'No Birthday Found': \n",
    "        return \"No age found\"\n",
    "    birthday = datetime.strptime(birthday_str, '%B %d, %Y')\n",
    "    today = datetime.today()\n",
    "    \n",
    "    age = today.year - birthday.year\n",
    "    \n",
    "    if (today.month, today.day) < (birthday.month, birthday.day):\n",
    "        age -= 1\n",
    "\n",
    "    return age\n",
    "\n",
    "age('Jennie Kim')"
   ]
  },
  {
   "cell_type": "code",
   "execution_count": 28,
   "id": "e96adafd",
   "metadata": {},
   "outputs": [
    {
     "name": "stdout",
     "output_type": "stream",
     "text": [
      "{'2004': 1.8333333333333333, '2005': 1.3333333333333333, '2006': 1.0833333333333333, '2007': 1.0833333333333333, '2008': 1.0, '2009': 0.6666666666666666, '2010': 0.6666666666666666, '2011': 1.8333333333333333, '2012': 1.4166666666666667, '2013': 1.0, '2014': 1.0, '2015': 8.333333333333334, '2016': 31.75, '2017': 21.166666666666668, '2018': 13.166666666666666, '2019': 11.666666666666666, '2020': 19.833333333333332, '2021': 5.833333333333333, '2022': 3.3333333333333335, '2023': 3.75, '2024': 11.916666666666666, '2025': 14.5}\n"
     ]
    }
   ],
   "source": [
    "from serpapi import GoogleSearch\n",
    "from collections import defaultdict\n",
    "\n",
    "API_KEY_GT = \"2580155c6127d9ef92c422b7dc6897ecf158ec88d71b3a67d694d0e30421712d\"\n",
    "\n",
    "def average_interest_by_year(name):\n",
    "    params = {\n",
    "        \"engine\": \"google_trends\",\n",
    "        \"q\": name,\n",
    "        \"data_type\": \"TIMESERIES\",\n",
    "        \"date\" : \"all\",\n",
    "        \"api_key\": API_KEY_GT\n",
    "    }\n",
    "\n",
    "    search = GoogleSearch(params)\n",
    "    results = search.get_dict()\n",
    "\n",
    "    timeline_data = results.get(\"interest_over_time\", {}).get(\"timeline_data\", [])\n",
    "\n",
    "    popularity_by_year = defaultdict(list)\n",
    "\n",
    "    for point in timeline_data:\n",
    "        date_str = point[\"date\"].replace(\"\\u2009\", \" \")\n",
    "        year = date_str.strip()[-4:] \n",
    "        value = point[\"values\"][0][\"extracted_value\"]\n",
    "        popularity_by_year[year].append(value)\n",
    "\n",
    "    average_by_year = {\n",
    "        year: sum(values) / len(values)\n",
    "        for year, values in popularity_by_year.items()\n",
    "    }\n",
    "\n",
    "    return average_by_year\n",
    "\n",
    "print(average_interest_by_year(\"Donald Trump\"))"
   ]
  },
  {
   "cell_type": "code",
   "execution_count": null,
   "id": "b7d2d370",
   "metadata": {},
   "outputs": [],
   "source": []
  }
 ],
 "metadata": {
  "kernelspec": {
   "display_name": "Python 3",
   "language": "python",
   "name": "python3"
  },
  "language_info": {
   "codemirror_mode": {
    "name": "ipython",
    "version": 3
   },
   "file_extension": ".py",
   "mimetype": "text/x-python",
   "name": "python",
   "nbconvert_exporter": "python",
   "pygments_lexer": "ipython3",
   "version": "3.12.8"
  }
 },
 "nbformat": 4,
 "nbformat_minor": 5
}
