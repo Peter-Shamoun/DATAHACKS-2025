{
 "cells": [
  {
   "cell_type": "code",
   "execution_count": 1,
   "id": "04955e25",
   "metadata": {},
   "outputs": [],
   "source": [
    "import requests\n",
    "from bs4 import BeautifulSoup\n",
    "from datetime import datetime"
   ]
  },
  {
   "cell_type": "code",
   "execution_count": 2,
   "id": "920e830b",
   "metadata": {},
   "outputs": [],
   "source": [
    "API_KEY = \"V8obtX28SgKyiiPx2TKWmw==mRI1Rdx8sYMqWnR8\""
   ]
  },
  {
   "cell_type": "code",
   "execution_count": 3,
   "id": "cfe1508f",
   "metadata": {},
   "outputs": [
    {
     "data": {
      "text/plain": [
       "[{'name': 'jennie kim', 'net_worth': 8000000}]"
      ]
     },
     "execution_count": 3,
     "metadata": {},
     "output_type": "execute_result"
    }
   ],
   "source": [
    "def get_info(name):\n",
    "    api_url = f\"https://api.api-ninjas.com/v1/celebrity?name={name}\"\n",
    "    headers = {'X-Api-Key': API_KEY}\n",
    "    response = requests.get(api_url, headers=headers)\n",
    "\n",
    "    if response.status_code == requests.codes.ok:\n",
    "        return response.json()  \n",
    "    else:\n",
    "        print(\"Error:\", response.status_code, response.text)\n",
    "        return None\n",
    "    \n",
    "\n",
    "get_info('Jennie Kim')"
   ]
  },
  {
   "cell_type": "code",
   "execution_count": 4,
   "id": "83a6dc75",
   "metadata": {},
   "outputs": [
    {
     "data": {
      "text/plain": [
       "'No Birthday Found'"
      ]
     },
     "execution_count": 4,
     "metadata": {},
     "output_type": "execute_result"
    }
   ],
   "source": [
    "\n",
    "def bday(name): \n",
    "    result = get_info(name)\n",
    "    if 'birthday' in result[0]: \n",
    "        date_str = result[0]['birthday']\n",
    "        date_obj = datetime.strptime(date_str, '%Y-%m-%d')\n",
    "        return date_obj.strftime('%B %d, %Y')\n",
    "    else: \n",
    "        return \"No Birthday Found\"\n",
    "\n",
    "bday('Jennie Kim')"
   ]
  },
  {
   "cell_type": "code",
   "execution_count": 5,
   "id": "317b09b3",
   "metadata": {},
   "outputs": [
    {
     "data": {
      "text/plain": [
       "'No Occupation Found'"
      ]
     },
     "execution_count": 5,
     "metadata": {},
     "output_type": "execute_result"
    }
   ],
   "source": [
    "\n",
    "def occupation(name): \n",
    "    result = get_info(name)\n",
    "    if 'occupation' in result[0]:\n",
    "        return result[0]['occupation']\n",
    "    else: \n",
    "        return 'No Occupation Found'\n",
    "\n",
    "occupation('Jennie Kim')"
   ]
  },
  {
   "cell_type": "code",
   "execution_count": 6,
   "id": "05037fc0",
   "metadata": {},
   "outputs": [
    {
     "data": {
      "text/plain": [
       "'No age found'"
      ]
     },
     "execution_count": 6,
     "metadata": {},
     "output_type": "execute_result"
    }
   ],
   "source": [
    "def age(name):\n",
    "    birthday_str = bday(name) \n",
    "    if birthday_str == 'No Birthday Found': \n",
    "        return \"No age found\"\n",
    "    birthday = datetime.strptime(birthday_str, '%B %d, %Y')\n",
    "    today = datetime.today()\n",
    "    \n",
    "    age = today.year - birthday.year\n",
    "    \n",
    "    if (today.month, today.day) < (birthday.month, birthday.day):\n",
    "        age -= 1\n",
    "\n",
    "    return age\n",
    "\n",
    "age('Jennie Kim')"
   ]
  },
  {
   "cell_type": "code",
   "execution_count": 7,
   "id": "e96adafd",
   "metadata": {},
   "outputs": [
    {
     "ename": "ImportError",
     "evalue": "cannot import name 'GoogleSearch' from 'serpapi' (c:\\Users\\Viki Shi\\.conda\\envs\\dsc80\\Lib\\site-packages\\serpapi\\__init__.py)",
     "output_type": "error",
     "traceback": [
      "\u001b[31m---------------------------------------------------------------------------\u001b[39m",
      "\u001b[31mImportError\u001b[39m                               Traceback (most recent call last)",
      "\u001b[36mCell\u001b[39m\u001b[36m \u001b[39m\u001b[32mIn[7]\u001b[39m\u001b[32m, line 1\u001b[39m\n\u001b[32m----> \u001b[39m\u001b[32m1\u001b[39m \u001b[38;5;28;01mfrom\u001b[39;00m\u001b[38;5;250m \u001b[39m\u001b[34;01mserpapi\u001b[39;00m\u001b[38;5;250m \u001b[39m\u001b[38;5;28;01mimport\u001b[39;00m GoogleSearch\n\u001b[32m      3\u001b[39m API_KEY_GT = \u001b[33m\"\u001b[39m\u001b[33m2580155c6127d9ef92c422b7dc6897ecf158ec88d71b3a67d694d0e30421712d\u001b[39m\u001b[33m\"\u001b[39m\n\u001b[32m      5\u001b[39m \u001b[38;5;28;01mdef\u001b[39;00m\u001b[38;5;250m \u001b[39m\u001b[34mpopularity\u001b[39m(name):\n",
      "\u001b[31mImportError\u001b[39m: cannot import name 'GoogleSearch' from 'serpapi' (c:\\Users\\Viki Shi\\.conda\\envs\\dsc80\\Lib\\site-packages\\serpapi\\__init__.py)"
     ]
    }
   ],
   "source": [
    "from serpapi import GoogleSearch\n",
    "\n",
    "API_KEY_GT = \"2580155c6127d9ef92c422b7dc6897ecf158ec88d71b3a67d694d0e30421712d\"\n",
    "\n",
    "def popularity(name):\n",
    "    params = {\n",
    "        \"engine\": \"google_trends\",\n",
    "        \"q\": name,\n",
    "        \"data_type\": \"TIMESERIES\",\n",
    "        \"api_key\": API_KEY_GT\n",
    "    }\n",
    "\n",
    "    search = GoogleSearch(params)\n",
    "    results = search.get_dict()\n",
    "    interest_over_time = results[\"interest_over_time\"]\n",
    "    \n",
    "    return interest_over_time\n",
    "\n",
    "print(popularity(\"Donald Trump\"))"
   ]
  },
  {
   "cell_type": "code",
   "execution_count": null,
   "id": "dab70d4a",
   "metadata": {},
   "outputs": [
    {
     "name": "stdout",
     "output_type": "stream",
     "text": [
      "Requirement already satisfied: serpapi in c:\\users\\viki shi\\.conda\\envs\\dsc80\\lib\\site-packages (0.1.5)\n",
      "Requirement already satisfied: requests in c:\\users\\viki shi\\appdata\\roaming\\python\\python312\\site-packages (from serpapi) (2.32.3)\n",
      "Requirement already satisfied: charset-normalizer<4,>=2 in c:\\users\\viki shi\\appdata\\roaming\\python\\python312\\site-packages (from requests->serpapi) (3.4.0)\n",
      "Requirement already satisfied: idna<4,>=2.5 in c:\\users\\viki shi\\appdata\\roaming\\python\\python312\\site-packages (from requests->serpapi) (3.10)\n",
      "Requirement already satisfied: urllib3<3,>=1.21.1 in c:\\users\\viki shi\\appdata\\roaming\\python\\python312\\site-packages (from requests->serpapi) (2.2.3)\n",
      "Requirement already satisfied: certifi>=2017.4.17 in c:\\users\\viki shi\\appdata\\roaming\\python\\python312\\site-packages (from requests->serpapi) (2024.8.30)\n"
     ]
    }
   ],
   "source": [
    "!pip install serpapi"
   ]
  },
  {
   "cell_type": "code",
   "execution_count": null,
   "id": "b7d2d370",
   "metadata": {},
   "outputs": [],
   "source": []
  }
 ],
 "metadata": {
  "kernelspec": {
   "display_name": "Python 3",
   "language": "python",
   "name": "python3"
  },
  "language_info": {
   "codemirror_mode": {
    "name": "ipython",
    "version": 3
   },
   "file_extension": ".py",
   "mimetype": "text/x-python",
   "name": "python",
   "nbconvert_exporter": "python",
   "pygments_lexer": "ipython3",
   "version": "3.12.8"
  }
 },
 "nbformat": 4,
 "nbformat_minor": 5
}
