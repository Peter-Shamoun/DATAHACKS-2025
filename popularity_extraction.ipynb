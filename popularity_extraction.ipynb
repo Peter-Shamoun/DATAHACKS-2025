{
 "cells": [
  {
   "cell_type": "code",
   "execution_count": 41,
   "id": "04955e25",
   "metadata": {},
   "outputs": [],
   "source": [
    "import requests\n",
    "from bs4 import BeautifulSoup\n",
    "from datetime import datetime"
   ]
  },
  {
   "cell_type": "code",
   "execution_count": 42,
   "id": "920e830b",
   "metadata": {},
   "outputs": [],
   "source": [
    "API_KEY = \"V8obtX28SgKyiiPx2TKWmw==mRI1Rdx8sYMqWnR8\""
   ]
  },
  {
   "cell_type": "code",
   "execution_count": 51,
   "id": "cfe1508f",
   "metadata": {},
   "outputs": [
    {
     "data": {
      "text/plain": [
       "[{'name': 'jennie kim', 'net_worth': 8000000}]"
      ]
     },
     "execution_count": 51,
     "metadata": {},
     "output_type": "execute_result"
    }
   ],
   "source": [
    "def get_info(name):\n",
    "    api_url = f\"https://api.api-ninjas.com/v1/celebrity?name={name}\"\n",
    "    headers = {'X-Api-Key': API_KEY}\n",
    "    response = requests.get(api_url, headers=headers)\n",
    "\n",
    "    if response.status_code == requests.codes.ok:\n",
    "        return response.json()  \n",
    "    else:\n",
    "        print(\"Error:\", response.status_code, response.text)\n",
    "        return None\n",
    "    \n",
    "\n",
    "get_info('Jennie Kim')"
   ]
  },
  {
   "cell_type": "code",
   "execution_count": 57,
   "id": "83a6dc75",
   "metadata": {},
   "outputs": [
    {
     "data": {
      "text/plain": [
       "'No Birthday Found'"
      ]
     },
     "execution_count": 57,
     "metadata": {},
     "output_type": "execute_result"
    }
   ],
   "source": [
    "\n",
    "def bday(name): \n",
    "    result = get_info(name)\n",
    "    if 'birthday' in result[0]: \n",
    "        date_str = result[0]['birthday']\n",
    "        date_obj = datetime.strptime(date_str, '%Y-%m-%d')\n",
    "        return date_obj.strftime('%B %d, %Y')\n",
    "    else: \n",
    "        return \"No Birthday Found\"\n",
    "\n",
    "bday('Jennie Kim')"
   ]
  },
  {
   "cell_type": "code",
   "execution_count": 59,
   "id": "317b09b3",
   "metadata": {},
   "outputs": [
    {
     "data": {
      "text/plain": [
       "'No Occupation Found'"
      ]
     },
     "execution_count": 59,
     "metadata": {},
     "output_type": "execute_result"
    }
   ],
   "source": [
    "\n",
    "def occupation(name): \n",
    "    result = get_info(name)\n",
    "    if 'occupation' in result[0]:\n",
    "        return result[0]['occupation']\n",
    "    else: \n",
    "        return 'No Occupation Found'\n",
    "\n",
    "occupation('Jennie Kim')"
   ]
  },
  {
   "cell_type": "code",
   "execution_count": 60,
   "id": "05037fc0",
   "metadata": {},
   "outputs": [
    {
     "data": {
      "text/plain": [
       "'No age found'"
      ]
     },
     "execution_count": 60,
     "metadata": {},
     "output_type": "execute_result"
    }
   ],
   "source": [
    "def age(name):\n",
    "    birthday_str = bday(name) \n",
    "    if birthday_str == 'No Birthday Found': \n",
    "        return \"No age found\"\n",
    "    birthday = datetime.strptime(birthday_str, '%B %d, %Y')\n",
    "    today = datetime.today()\n",
    "    \n",
    "    age = today.year - birthday.year\n",
    "    \n",
    "    if (today.month, today.day) < (birthday.month, birthday.day):\n",
    "        age -= 1\n",
    "\n",
    "    return age\n",
    "\n",
    "age('Jennie Kim')"
   ]
  }
 ],
 "metadata": {
  "kernelspec": {
   "display_name": "dsc80",
   "language": "python",
   "name": "python3"
  },
  "language_info": {
   "codemirror_mode": {
    "name": "ipython",
    "version": 3
   },
   "file_extension": ".py",
   "mimetype": "text/x-python",
   "name": "python",
   "nbconvert_exporter": "python",
   "pygments_lexer": "ipython3",
   "version": "3.12.8"
  }
 },
 "nbformat": 4,
 "nbformat_minor": 5
}
